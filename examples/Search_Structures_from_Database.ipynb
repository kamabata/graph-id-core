{
  "nbformat": 4,
  "nbformat_minor": 0,
  "metadata": {
    "colab": {
      "provenance": [],
      "authorship_tag": "ABX9TyO/+ssfRh1ZihC67yQLFmBv",
      "include_colab_link": true
    },
    "kernelspec": {
      "name": "python3",
      "display_name": "Python 3"
    },
    "language_info": {
      "name": "python"
    }
  },
  "cells": [
    {
      "cell_type": "markdown",
      "metadata": {
        "id": "view-in-github",
        "colab_type": "text"
      },
      "source": [
        "<a href=\"https://colab.research.google.com/github/kmu/graph-id-core/blob/main/examples/Search_Structures_from_Database.ipynb\" target=\"_parent\"><img src=\"https://colab.research.google.com/assets/colab-badge.svg\" alt=\"Open In Colab\"/></a>"
      ]
    },
    {
      "cell_type": "code",
      "execution_count": 3,
      "metadata": {
        "colab": {
          "base_uri": "https://localhost:8080/"
        },
        "id": "WE9Xi4ofk4YK",
        "outputId": "f84a4a9c-2939-4545-dc6f-18dae983b277"
      },
      "outputs": [
        {
          "output_type": "stream",
          "name": "stdout",
          "text": [
            "Requirement already satisfied: graph-id-core in /usr/local/lib/python3.12/dist-packages (0.1.9)\n",
            "Collecting graph-id-db\n",
            "  Downloading graph_id_db-1.0.1-py3-none-any.whl.metadata (903 bytes)\n",
            "Requirement already satisfied: pybind11==2.11.1 in /usr/local/lib/python3.12/dist-packages (from graph-id-core) (2.11.1)\n",
            "Requirement already satisfied: pymatgen<2026.0.0,>=2025.4.20 in /usr/local/lib/python3.12/dist-packages (from graph-id-core) (2025.6.14)\n",
            "Requirement already satisfied: scikit-learn>=0.24.1 in /usr/local/lib/python3.12/dist-packages (from graph-id-core) (1.6.1)\n",
            "Requirement already satisfied: orjson<4.0,>=3.10 in /usr/local/lib/python3.12/dist-packages (from graph-id-db) (3.11.3)\n",
            "Requirement already satisfied: bibtexparser>=1.4.0 in /usr/local/lib/python3.12/dist-packages (from pymatgen<2026.0.0,>=2025.4.20->graph-id-core) (1.4.3)\n",
            "Requirement already satisfied: joblib>=1 in /usr/local/lib/python3.12/dist-packages (from pymatgen<2026.0.0,>=2025.4.20->graph-id-core) (1.5.2)\n",
            "Requirement already satisfied: matplotlib>=3.8 in /usr/local/lib/python3.12/dist-packages (from pymatgen<2026.0.0,>=2025.4.20->graph-id-core) (3.10.0)\n",
            "Requirement already satisfied: monty>=2025.1.9 in /usr/local/lib/python3.12/dist-packages (from pymatgen<2026.0.0,>=2025.4.20->graph-id-core) (2025.3.3)\n",
            "Requirement already satisfied: networkx>=2.7 in /usr/local/lib/python3.12/dist-packages (from pymatgen<2026.0.0,>=2025.4.20->graph-id-core) (3.5)\n",
            "Requirement already satisfied: numpy<3,>=1.25.0 in /usr/local/lib/python3.12/dist-packages (from pymatgen<2026.0.0,>=2025.4.20->graph-id-core) (2.0.2)\n",
            "Requirement already satisfied: palettable>=3.3.3 in /usr/local/lib/python3.12/dist-packages (from pymatgen<2026.0.0,>=2025.4.20->graph-id-core) (3.3.3)\n",
            "Requirement already satisfied: pandas>=2 in /usr/local/lib/python3.12/dist-packages (from pymatgen<2026.0.0,>=2025.4.20->graph-id-core) (2.2.2)\n",
            "Requirement already satisfied: plotly>=5.0.0 in /usr/local/lib/python3.12/dist-packages (from pymatgen<2026.0.0,>=2025.4.20->graph-id-core) (5.24.1)\n",
            "Requirement already satisfied: requests>=2.32 in /usr/local/lib/python3.12/dist-packages (from pymatgen<2026.0.0,>=2025.4.20->graph-id-core) (2.32.4)\n",
            "Requirement already satisfied: ruamel.yaml>=0.17.0 in /usr/local/lib/python3.12/dist-packages (from pymatgen<2026.0.0,>=2025.4.20->graph-id-core) (0.18.15)\n",
            "Requirement already satisfied: scipy>=1.13.0 in /usr/local/lib/python3.12/dist-packages (from pymatgen<2026.0.0,>=2025.4.20->graph-id-core) (1.16.1)\n",
            "Requirement already satisfied: spglib>=2.5 in /usr/local/lib/python3.12/dist-packages (from pymatgen<2026.0.0,>=2025.4.20->graph-id-core) (2.6.0)\n",
            "Requirement already satisfied: sympy>=1.3 in /usr/local/lib/python3.12/dist-packages (from pymatgen<2026.0.0,>=2025.4.20->graph-id-core) (1.13.3)\n",
            "Requirement already satisfied: tabulate>=0.9 in /usr/local/lib/python3.12/dist-packages (from pymatgen<2026.0.0,>=2025.4.20->graph-id-core) (0.9.0)\n",
            "Requirement already satisfied: tqdm>=4.60 in /usr/local/lib/python3.12/dist-packages (from pymatgen<2026.0.0,>=2025.4.20->graph-id-core) (4.67.1)\n",
            "Requirement already satisfied: uncertainties>=3.1.4 in /usr/local/lib/python3.12/dist-packages (from pymatgen<2026.0.0,>=2025.4.20->graph-id-core) (3.2.3)\n",
            "Requirement already satisfied: threadpoolctl>=3.1.0 in /usr/local/lib/python3.12/dist-packages (from scikit-learn>=0.24.1->graph-id-core) (3.6.0)\n",
            "Requirement already satisfied: pyparsing>=2.0.3 in /usr/local/lib/python3.12/dist-packages (from bibtexparser>=1.4.0->pymatgen<2026.0.0,>=2025.4.20->graph-id-core) (3.2.3)\n",
            "Requirement already satisfied: contourpy>=1.0.1 in /usr/local/lib/python3.12/dist-packages (from matplotlib>=3.8->pymatgen<2026.0.0,>=2025.4.20->graph-id-core) (1.3.3)\n",
            "Requirement already satisfied: cycler>=0.10 in /usr/local/lib/python3.12/dist-packages (from matplotlib>=3.8->pymatgen<2026.0.0,>=2025.4.20->graph-id-core) (0.12.1)\n",
            "Requirement already satisfied: fonttools>=4.22.0 in /usr/local/lib/python3.12/dist-packages (from matplotlib>=3.8->pymatgen<2026.0.0,>=2025.4.20->graph-id-core) (4.59.2)\n",
            "Requirement already satisfied: kiwisolver>=1.3.1 in /usr/local/lib/python3.12/dist-packages (from matplotlib>=3.8->pymatgen<2026.0.0,>=2025.4.20->graph-id-core) (1.4.9)\n",
            "Requirement already satisfied: packaging>=20.0 in /usr/local/lib/python3.12/dist-packages (from matplotlib>=3.8->pymatgen<2026.0.0,>=2025.4.20->graph-id-core) (25.0)\n",
            "Requirement already satisfied: pillow>=8 in /usr/local/lib/python3.12/dist-packages (from matplotlib>=3.8->pymatgen<2026.0.0,>=2025.4.20->graph-id-core) (11.3.0)\n",
            "Requirement already satisfied: python-dateutil>=2.7 in /usr/local/lib/python3.12/dist-packages (from matplotlib>=3.8->pymatgen<2026.0.0,>=2025.4.20->graph-id-core) (2.9.0.post0)\n",
            "Requirement already satisfied: pytz>=2020.1 in /usr/local/lib/python3.12/dist-packages (from pandas>=2->pymatgen<2026.0.0,>=2025.4.20->graph-id-core) (2025.2)\n",
            "Requirement already satisfied: tzdata>=2022.7 in /usr/local/lib/python3.12/dist-packages (from pandas>=2->pymatgen<2026.0.0,>=2025.4.20->graph-id-core) (2025.2)\n",
            "Requirement already satisfied: tenacity>=6.2.0 in /usr/local/lib/python3.12/dist-packages (from plotly>=5.0.0->pymatgen<2026.0.0,>=2025.4.20->graph-id-core) (8.5.0)\n",
            "Requirement already satisfied: charset_normalizer<4,>=2 in /usr/local/lib/python3.12/dist-packages (from requests>=2.32->pymatgen<2026.0.0,>=2025.4.20->graph-id-core) (3.4.3)\n",
            "Requirement already satisfied: idna<4,>=2.5 in /usr/local/lib/python3.12/dist-packages (from requests>=2.32->pymatgen<2026.0.0,>=2025.4.20->graph-id-core) (3.10)\n",
            "Requirement already satisfied: urllib3<3,>=1.21.1 in /usr/local/lib/python3.12/dist-packages (from requests>=2.32->pymatgen<2026.0.0,>=2025.4.20->graph-id-core) (2.5.0)\n",
            "Requirement already satisfied: certifi>=2017.4.17 in /usr/local/lib/python3.12/dist-packages (from requests>=2.32->pymatgen<2026.0.0,>=2025.4.20->graph-id-core) (2025.8.3)\n",
            "Requirement already satisfied: ruamel.yaml.clib>=0.2.7 in /usr/local/lib/python3.12/dist-packages (from ruamel.yaml>=0.17.0->pymatgen<2026.0.0,>=2025.4.20->graph-id-core) (0.2.12)\n",
            "Requirement already satisfied: typing-extensions>=4.9.0 in /usr/local/lib/python3.12/dist-packages (from spglib>=2.5->pymatgen<2026.0.0,>=2025.4.20->graph-id-core) (4.15.0)\n",
            "Requirement already satisfied: mpmath<1.4,>=1.1.0 in /usr/local/lib/python3.12/dist-packages (from sympy>=1.3->pymatgen<2026.0.0,>=2025.4.20->graph-id-core) (1.3.0)\n",
            "Requirement already satisfied: six>=1.5 in /usr/local/lib/python3.12/dist-packages (from python-dateutil>=2.7->matplotlib>=3.8->pymatgen<2026.0.0,>=2025.4.20->graph-id-core) (1.17.0)\n",
            "Downloading graph_id_db-1.0.1-py3-none-any.whl (33.8 MB)\n",
            "\u001b[2K   \u001b[90m━━━━━━━━━━━━━━━━━━━━━━━━━━━━━━━━━━━━━━━━\u001b[0m \u001b[32m33.8/33.8 MB\u001b[0m \u001b[31m50.1 MB/s\u001b[0m eta \u001b[36m0:00:00\u001b[0m\n",
            "\u001b[?25hInstalling collected packages: graph-id-db\n",
            "Successfully installed graph-id-db-1.0.1\n"
          ]
        }
      ],
      "source": [
        "!pip install graph-id-core graph-id-db"
      ]
    },
    {
      "cell_type": "code",
      "source": [
        "from graph_id_cpp import GraphIDGenerator\n",
        "\n",
        "from pymatgen.core import Structure, Lattice\n",
        "\n",
        "structure = Structure.from_spacegroup(\n",
        "    \"Fm-3m\",\n",
        "    Lattice.cubic(5.692),\n",
        "    [\"Na\", \"Cl\"],\n",
        "    [[0, 0, 0], [0.5, 0.5, 0.5]]\n",
        ").get_primitive_structure()\n",
        "gen = GraphIDGenerator()\n",
        "graph_id = gen.get_id(structure)\n",
        "print(f\"Graph ID of NaCl is {graph_id}\")"
      ],
      "metadata": {
        "colab": {
          "base_uri": "https://localhost:8080/"
        },
        "id": "QW5CajdDk5vh",
        "outputId": "5197b0ab-5f55-4cf2-e1ae-99926da69e06"
      },
      "execution_count": 11,
      "outputs": [
        {
          "output_type": "stream",
          "name": "stdout",
          "text": [
            "Graph ID of NaCl is 154898de63129154\n"
          ]
        }
      ]
    },
    {
      "cell_type": "code",
      "source": [
        "from graph_id_db import Finder\n",
        "\n",
        "# Search for structures in graph-id-db using GraphID\n",
        "finder = Finder()\n",
        "finder.find(graph_id)"
      ],
      "metadata": {
        "colab": {
          "base_uri": "https://localhost:8080/"
        },
        "id": "cflSr5tclC-J",
        "outputId": "ed803c6a-495d-4e6e-d969-1253a4506dc9"
      },
      "execution_count": 12,
      "outputs": [
        {
          "output_type": "execute_result",
          "data": {
            "text/plain": [
              "[{'graph_id_type': 'md_id',\n",
              "  'proprietary_id': 'mp-22862',\n",
              "  'datasource': 'MP',\n",
              "  'url': 'https://next-gen.materialsproject.org/materials/mp-22862',\n",
              "  'filehash': 'c6f672c966db90a4'}]"
            ]
          },
          "metadata": {},
          "execution_count": 12
        }
      ]
    },
    {
      "cell_type": "code",
      "source": [],
      "metadata": {
        "id": "bCxjbgiClLg9"
      },
      "execution_count": null,
      "outputs": []
    }
  ]
}