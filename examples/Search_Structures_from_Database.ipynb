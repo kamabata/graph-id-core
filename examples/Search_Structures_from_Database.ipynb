{
  "nbformat": 4,
  "nbformat_minor": 0,
  "metadata": {
    "colab": {
      "provenance": [],
      "authorship_tag": "ABX9TyO/+ssfRh1ZihC67yQLFmBv",
      "include_colab_link": true
    },
    "kernelspec": {
      "name": "python3",
      "display_name": "Python 3"
    },
    "language_info": {
      "name": "python"
    }
  },
  "cells": [
    {
      "cell_type": "markdown",
      "metadata": {
        "id": "view-in-github",
        "colab_type": "text"
      },
      "source": [
        "<a href=\"https://colab.research.google.com/github/kmu/graph-id-core/blob/main/examples/Search_Structures_from_Database.ipynb\" target=\"_parent\"><img src=\"https://colab.research.google.com/assets/colab-badge.svg\" alt=\"Open In Colab\"/></a>"
      ]
    },
    {
      "cell_type": "code",
      "execution_count": 1,
      "metadata": {
        "colab": {
          "base_uri": "https://localhost:8080/"
        },
        "id": "WE9Xi4ofk4YK",
        "outputId": "a575e0dd-bf83-4be3-92dd-ce715b9ebae1"
      },
      "outputs": [
        {
          "output_type": "stream",
          "name": "stdout",
          "text": [
            "Collecting graph-id-core\n",
            "  Downloading graph_id_core-0.1.9-cp312-cp312-manylinux_2_17_x86_64.manylinux2014_x86_64.whl.metadata (835 bytes)\n",
            "Collecting graph-id-db\n",
            "  Downloading graph_id_db-1.0.1-py3-none-any.whl.metadata (903 bytes)\n",
            "Collecting pybind11==2.11.1 (from graph-id-core)\n",
            "  Downloading pybind11-2.11.1-py3-none-any.whl.metadata (9.5 kB)\n",
            "Collecting pymatgen<2026.0.0,>=2025.4.20 (from graph-id-core)\n",
            "  Downloading pymatgen-2025.6.14-cp312-cp312-manylinux_2_17_x86_64.manylinux2014_x86_64.whl.metadata (13 kB)\n",
            "Requirement already satisfied: scikit-learn>=0.24.1 in /usr/local/lib/python3.12/dist-packages (from graph-id-core) (1.6.1)\n",
            "Requirement already satisfied: orjson<4.0,>=3.10 in /usr/local/lib/python3.12/dist-packages (from graph-id-db) (3.11.3)\n",
            "Collecting bibtexparser>=1.4.0 (from pymatgen<2026.0.0,>=2025.4.20->graph-id-core)\n",
            "  Downloading bibtexparser-1.4.3.tar.gz (55 kB)\n",
            "\u001b[2K     \u001b[90m━━━━━━━━━━━━━━━━━━━━━━━━━━━━━━━━━━━━━━━━\u001b[0m \u001b[32m55.6/55.6 kB\u001b[0m \u001b[31m2.7 MB/s\u001b[0m eta \u001b[36m0:00:00\u001b[0m\n",
            "\u001b[?25h  Preparing metadata (setup.py) ... \u001b[?25l\u001b[?25hdone\n",
            "Requirement already satisfied: joblib>=1 in /usr/local/lib/python3.12/dist-packages (from pymatgen<2026.0.0,>=2025.4.20->graph-id-core) (1.5.2)\n",
            "Requirement already satisfied: matplotlib>=3.8 in /usr/local/lib/python3.12/dist-packages (from pymatgen<2026.0.0,>=2025.4.20->graph-id-core) (3.10.0)\n",
            "Collecting monty>=2025.1.9 (from pymatgen<2026.0.0,>=2025.4.20->graph-id-core)\n",
            "  Downloading monty-2025.3.3-py3-none-any.whl.metadata (3.6 kB)\n",
            "Requirement already satisfied: networkx>=2.7 in /usr/local/lib/python3.12/dist-packages (from pymatgen<2026.0.0,>=2025.4.20->graph-id-core) (3.5)\n",
            "Requirement already satisfied: numpy<3,>=1.25.0 in /usr/local/lib/python3.12/dist-packages (from pymatgen<2026.0.0,>=2025.4.20->graph-id-core) (2.0.2)\n",
            "Collecting palettable>=3.3.3 (from pymatgen<2026.0.0,>=2025.4.20->graph-id-core)\n",
            "  Downloading palettable-3.3.3-py2.py3-none-any.whl.metadata (3.3 kB)\n",
            "Requirement already satisfied: pandas>=2 in /usr/local/lib/python3.12/dist-packages (from pymatgen<2026.0.0,>=2025.4.20->graph-id-core) (2.2.2)\n",
            "Requirement already satisfied: plotly>=5.0.0 in /usr/local/lib/python3.12/dist-packages (from pymatgen<2026.0.0,>=2025.4.20->graph-id-core) (5.24.1)\n",
            "Requirement already satisfied: requests>=2.32 in /usr/local/lib/python3.12/dist-packages (from pymatgen<2026.0.0,>=2025.4.20->graph-id-core) (2.32.4)\n",
            "Collecting ruamel.yaml>=0.17.0 (from pymatgen<2026.0.0,>=2025.4.20->graph-id-core)\n",
            "  Downloading ruamel.yaml-0.18.15-py3-none-any.whl.metadata (25 kB)\n",
            "Requirement already satisfied: scipy>=1.13.0 in /usr/local/lib/python3.12/dist-packages (from pymatgen<2026.0.0,>=2025.4.20->graph-id-core) (1.16.1)\n",
            "Collecting spglib>=2.5 (from pymatgen<2026.0.0,>=2025.4.20->graph-id-core)\n",
            "  Downloading spglib-2.6.0-cp312-cp312-manylinux_2_17_x86_64.manylinux2014_x86_64.whl.metadata (4.2 kB)\n",
            "Requirement already satisfied: sympy>=1.3 in /usr/local/lib/python3.12/dist-packages (from pymatgen<2026.0.0,>=2025.4.20->graph-id-core) (1.13.3)\n",
            "Requirement already satisfied: tabulate>=0.9 in /usr/local/lib/python3.12/dist-packages (from pymatgen<2026.0.0,>=2025.4.20->graph-id-core) (0.9.0)\n",
            "Requirement already satisfied: tqdm>=4.60 in /usr/local/lib/python3.12/dist-packages (from pymatgen<2026.0.0,>=2025.4.20->graph-id-core) (4.67.1)\n",
            "Collecting uncertainties>=3.1.4 (from pymatgen<2026.0.0,>=2025.4.20->graph-id-core)\n",
            "  Downloading uncertainties-3.2.3-py3-none-any.whl.metadata (7.0 kB)\n",
            "Requirement already satisfied: threadpoolctl>=3.1.0 in /usr/local/lib/python3.12/dist-packages (from scikit-learn>=0.24.1->graph-id-core) (3.6.0)\n",
            "Requirement already satisfied: pyparsing>=2.0.3 in /usr/local/lib/python3.12/dist-packages (from bibtexparser>=1.4.0->pymatgen<2026.0.0,>=2025.4.20->graph-id-core) (3.2.3)\n",
            "Requirement already satisfied: contourpy>=1.0.1 in /usr/local/lib/python3.12/dist-packages (from matplotlib>=3.8->pymatgen<2026.0.0,>=2025.4.20->graph-id-core) (1.3.3)\n",
            "Requirement already satisfied: cycler>=0.10 in /usr/local/lib/python3.12/dist-packages (from matplotlib>=3.8->pymatgen<2026.0.0,>=2025.4.20->graph-id-core) (0.12.1)\n",
            "Requirement already satisfied: fonttools>=4.22.0 in /usr/local/lib/python3.12/dist-packages (from matplotlib>=3.8->pymatgen<2026.0.0,>=2025.4.20->graph-id-core) (4.59.2)\n",
            "Requirement already satisfied: kiwisolver>=1.3.1 in /usr/local/lib/python3.12/dist-packages (from matplotlib>=3.8->pymatgen<2026.0.0,>=2025.4.20->graph-id-core) (1.4.9)\n",
            "Requirement already satisfied: packaging>=20.0 in /usr/local/lib/python3.12/dist-packages (from matplotlib>=3.8->pymatgen<2026.0.0,>=2025.4.20->graph-id-core) (25.0)\n",
            "Requirement already satisfied: pillow>=8 in /usr/local/lib/python3.12/dist-packages (from matplotlib>=3.8->pymatgen<2026.0.0,>=2025.4.20->graph-id-core) (11.3.0)\n",
            "Requirement already satisfied: python-dateutil>=2.7 in /usr/local/lib/python3.12/dist-packages (from matplotlib>=3.8->pymatgen<2026.0.0,>=2025.4.20->graph-id-core) (2.9.0.post0)\n",
            "Requirement already satisfied: pytz>=2020.1 in /usr/local/lib/python3.12/dist-packages (from pandas>=2->pymatgen<2026.0.0,>=2025.4.20->graph-id-core) (2025.2)\n",
            "Requirement already satisfied: tzdata>=2022.7 in /usr/local/lib/python3.12/dist-packages (from pandas>=2->pymatgen<2026.0.0,>=2025.4.20->graph-id-core) (2025.2)\n",
            "Requirement already satisfied: tenacity>=6.2.0 in /usr/local/lib/python3.12/dist-packages (from plotly>=5.0.0->pymatgen<2026.0.0,>=2025.4.20->graph-id-core) (8.5.0)\n",
            "Requirement already satisfied: charset_normalizer<4,>=2 in /usr/local/lib/python3.12/dist-packages (from requests>=2.32->pymatgen<2026.0.0,>=2025.4.20->graph-id-core) (3.4.3)\n",
            "Requirement already satisfied: idna<4,>=2.5 in /usr/local/lib/python3.12/dist-packages (from requests>=2.32->pymatgen<2026.0.0,>=2025.4.20->graph-id-core) (3.10)\n",
            "Requirement already satisfied: urllib3<3,>=1.21.1 in /usr/local/lib/python3.12/dist-packages (from requests>=2.32->pymatgen<2026.0.0,>=2025.4.20->graph-id-core) (2.5.0)\n",
            "Requirement already satisfied: certifi>=2017.4.17 in /usr/local/lib/python3.12/dist-packages (from requests>=2.32->pymatgen<2026.0.0,>=2025.4.20->graph-id-core) (2025.8.3)\n",
            "Collecting ruamel.yaml.clib>=0.2.7 (from ruamel.yaml>=0.17.0->pymatgen<2026.0.0,>=2025.4.20->graph-id-core)\n",
            "  Downloading ruamel.yaml.clib-0.2.12-cp312-cp312-manylinux_2_17_x86_64.manylinux2014_x86_64.whl.metadata (2.7 kB)\n",
            "Requirement already satisfied: typing-extensions>=4.9.0 in /usr/local/lib/python3.12/dist-packages (from spglib>=2.5->pymatgen<2026.0.0,>=2025.4.20->graph-id-core) (4.15.0)\n",
            "Requirement already satisfied: mpmath<1.4,>=1.1.0 in /usr/local/lib/python3.12/dist-packages (from sympy>=1.3->pymatgen<2026.0.0,>=2025.4.20->graph-id-core) (1.3.0)\n",
            "Requirement already satisfied: six>=1.5 in /usr/local/lib/python3.12/dist-packages (from python-dateutil>=2.7->matplotlib>=3.8->pymatgen<2026.0.0,>=2025.4.20->graph-id-core) (1.17.0)\n",
            "Downloading graph_id_core-0.1.9-cp312-cp312-manylinux_2_17_x86_64.manylinux2014_x86_64.whl (300 kB)\n",
            "\u001b[2K   \u001b[90m━━━━━━━━━━━━━━━━━━━━━━━━━━━━━━━━━━━━━━━━\u001b[0m \u001b[32m300.1/300.1 kB\u001b[0m \u001b[31m9.7 MB/s\u001b[0m eta \u001b[36m0:00:00\u001b[0m\n",
            "\u001b[?25hDownloading pybind11-2.11.1-py3-none-any.whl (227 kB)\n",
            "\u001b[2K   \u001b[90m━━━━━━━━━━━━━━━━━━━━━━━━━━━━━━━━━━━━━━━━\u001b[0m \u001b[32m227.7/227.7 kB\u001b[0m \u001b[31m16.7 MB/s\u001b[0m eta \u001b[36m0:00:00\u001b[0m\n",
            "\u001b[?25hDownloading graph_id_db-1.0.1-py3-none-any.whl (33.8 MB)\n",
            "\u001b[2K   \u001b[90m━━━━━━━━━━━━━━━━━━━━━━━━━━━━━━━━━━━━━━━━\u001b[0m \u001b[32m33.8/33.8 MB\u001b[0m \u001b[31m47.0 MB/s\u001b[0m eta \u001b[36m0:00:00\u001b[0m\n",
            "\u001b[?25hDownloading pymatgen-2025.6.14-cp312-cp312-manylinux_2_17_x86_64.manylinux2014_x86_64.whl (5.1 MB)\n",
            "\u001b[2K   \u001b[90m━━━━━━━━━━━━━━━━━━━━━━━━━━━━━━━━━━━━━━━━\u001b[0m \u001b[32m5.1/5.1 MB\u001b[0m \u001b[31m98.8 MB/s\u001b[0m eta \u001b[36m0:00:00\u001b[0m\n",
            "\u001b[?25hDownloading monty-2025.3.3-py3-none-any.whl (51 kB)\n",
            "\u001b[2K   \u001b[90m━━━━━━━━━━━━━━━━━━━━━━━━━━━━━━━━━━━━━━━━\u001b[0m \u001b[32m51.9/51.9 kB\u001b[0m \u001b[31m3.9 MB/s\u001b[0m eta \u001b[36m0:00:00\u001b[0m\n",
            "\u001b[?25hDownloading palettable-3.3.3-py2.py3-none-any.whl (332 kB)\n",
            "\u001b[2K   \u001b[90m━━━━━━━━━━━━━━━━━━━━━━━━━━━━━━━━━━━━━━━━\u001b[0m \u001b[32m332.3/332.3 kB\u001b[0m \u001b[31m22.2 MB/s\u001b[0m eta \u001b[36m0:00:00\u001b[0m\n",
            "\u001b[?25hDownloading ruamel.yaml-0.18.15-py3-none-any.whl (119 kB)\n",
            "\u001b[2K   \u001b[90m━━━━━━━━━━━━━━━━━━━━━━━━━━━━━━━━━━━━━━━━\u001b[0m \u001b[32m119.7/119.7 kB\u001b[0m \u001b[31m8.3 MB/s\u001b[0m eta \u001b[36m0:00:00\u001b[0m\n",
            "\u001b[?25hDownloading spglib-2.6.0-cp312-cp312-manylinux_2_17_x86_64.manylinux2014_x86_64.whl (809 kB)\n",
            "\u001b[2K   \u001b[90m━━━━━━━━━━━━━━━━━━━━━━━━━━━━━━━━━━━━━━━━\u001b[0m \u001b[32m809.1/809.1 kB\u001b[0m \u001b[31m40.7 MB/s\u001b[0m eta \u001b[36m0:00:00\u001b[0m\n",
            "\u001b[?25hDownloading uncertainties-3.2.3-py3-none-any.whl (60 kB)\n",
            "\u001b[2K   \u001b[90m━━━━━━━━━━━━━━━━━━━━━━━━━━━━━━━━━━━━━━━━\u001b[0m \u001b[32m60.1/60.1 kB\u001b[0m \u001b[31m4.0 MB/s\u001b[0m eta \u001b[36m0:00:00\u001b[0m\n",
            "\u001b[?25hDownloading ruamel.yaml.clib-0.2.12-cp312-cp312-manylinux_2_17_x86_64.manylinux2014_x86_64.whl (754 kB)\n",
            "\u001b[2K   \u001b[90m━━━━━━━━━━━━━━━━━━━━━━━━━━━━━━━━━━━━━━━━\u001b[0m \u001b[32m754.1/754.1 kB\u001b[0m \u001b[31m44.1 MB/s\u001b[0m eta \u001b[36m0:00:00\u001b[0m\n",
            "\u001b[?25hBuilding wheels for collected packages: bibtexparser\n",
            "  Building wheel for bibtexparser (setup.py) ... \u001b[?25l\u001b[?25hdone\n",
            "  Created wheel for bibtexparser: filename=bibtexparser-1.4.3-py3-none-any.whl size=43549 sha256=06e7ca159751c940214b155d5d6ef817901a861e7f1c3f1bc344f51eaa0d428f\n",
            "  Stored in directory: /root/.cache/pip/wheels/1f/7d/e9/1ff2509f13767a55df1279744adfb757f4ab94b2cbe761f56a\n",
            "Successfully built bibtexparser\n",
            "Installing collected packages: uncertainties, spglib, ruamel.yaml.clib, pybind11, palettable, graph-id-db, bibtexparser, ruamel.yaml, monty, pymatgen, graph-id-core\n",
            "Successfully installed bibtexparser-1.4.3 graph-id-core-0.1.9 graph-id-db-1.0.1 monty-2025.3.3 palettable-3.3.3 pybind11-2.11.1 pymatgen-2025.6.14 ruamel.yaml-0.18.15 ruamel.yaml.clib-0.2.12 spglib-2.6.0 uncertainties-3.2.3\n"
          ]
        }
      ],
      "source": [
        "!pip install graph-id-core graph-id-db"
      ]
    },
    {
      "cell_type": "code",
      "source": [
        "from graph_id_cpp import GraphIDGenerator\n",
        "\n",
        "from pymatgen.core import Structure, Lattice\n",
        "\n",
        "structure = Structure.from_spacegroup(\n",
        "    \"Fm-3m\",\n",
        "    Lattice.cubic(5.692),\n",
        "    [\"Na\", \"Cl\"],\n",
        "    [[0, 0, 0], [0.5, 0.5, 0.5]]\n",
        ").get_primitive_structure()\n",
        "gen = GraphIDGenerator()\n",
        "graph_id = gen.get_id(structure)\n",
        "print(f\"Graph ID of NaCl is {graph_id}\")"
      ],
      "metadata": {
        "colab": {
          "base_uri": "https://localhost:8080/"
        },
        "id": "QW5CajdDk5vh",
        "outputId": "20e53b4f-db8c-4890-e2c8-a35ce307b717"
      },
      "execution_count": 2,
      "outputs": [
        {
          "output_type": "stream",
          "name": "stdout",
          "text": [
            "Graph ID of NaCl is 154898de63129154\n"
          ]
        }
      ]
    },
    {
      "cell_type": "code",
      "source": [
        "from graph_id_db import Finder\n",
        "\n",
        "# Search for structures in graph-id-db using GraphID\n",
        "finder = Finder()\n",
        "finder.find(graph_id)"
      ],
      "metadata": {
        "colab": {
          "base_uri": "https://localhost:8080/"
        },
        "id": "cflSr5tclC-J",
        "outputId": "ce67360b-0553-4e4d-9603-ff8c761789f4"
      },
      "execution_count": 3,
      "outputs": [
        {
          "output_type": "execute_result",
          "data": {
            "text/plain": [
              "[{'graph_id_type': 'md_id',\n",
              "  'proprietary_id': 'mp-22862',\n",
              "  'datasource': 'MP',\n",
              "  'url': 'https://next-gen.materialsproject.org/materials/mp-22862',\n",
              "  'filehash': 'c6f672c966db90a4'}]"
            ]
          },
          "metadata": {},
          "execution_count": 3
        }
      ]
    },
    {
      "cell_type": "code",
      "source": [],
      "metadata": {
        "id": "bCxjbgiClLg9"
      },
      "execution_count": 3,
      "outputs": []
    }
  ]
}